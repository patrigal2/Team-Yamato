{
 "cells": [
  {
   "cell_type": "code",
   "execution_count": 31,
   "metadata": {},
   "outputs": [],
   "source": [
    "import numpy as np\n",
    "import pandas as pd\n",
    "\n",
    "## Vidas\n",
    "num_vidas_h = 20\n",
    "num_vidas_m = 20\n",
    "\n",
    "regla_juego = \"\"\"Bienvenid@ a hundir la flota! Tu contrincante va a ser una máquina. Cada uno disparará a una coordenada.\n",
    "Si logras disparar en una posición de un barco de la maquina, aparecerá una 'X' en el tablero del \n",
    "adversario y podrás seguir disparando vayas acertando. Si, por el contrario, disparas al agua, apracerá un '-' en \n",
    "eltablero del adversario y el turno será de la maquina. Para ganar, se tienen que \"hundir\" todos los barcos del adversario.\"\"\"\n",
    "\n",
    "# Definir los barcos con sus respectivas longitudes\n",
    "barcos = {         \"barco1\": 1, \n",
    "                   \"barco2\": 1, \n",
    "                   \"barco3\": 1, \n",
    "                   \"barco4\": 1, \n",
    "                   \"barco5\": 2, \n",
    "                   \"barco6\": 2, \n",
    "                   \"barco7\": 2, \n",
    "                   \"barco8\": 3, \n",
    "                   \"barco9\": 3, \n",
    "                   \"barco10\": 4}\n",
    "\n"
   ]
  },
  {
   "cell_type": "code",
   "execution_count": 32,
   "metadata": {},
   "outputs": [],
   "source": [
    "class Tablero:\n",
    "    filas = 10\n",
    "    columnas = 10\n",
    "    tablero_jugador_barcos = np.full((10,10),\" \")\n",
    "    tablero_jugador_nada = np.full((10,10),\" \")\n",
    "    tablero_maquina_barcos = np.full((10,10),\" \")\n",
    "    tablero_maquina_nada = np.full((10,10),\" \")\n",
    "\n",
    "    def __init__(self, jugador, maquina):\n",
    "        self.jugador = jugador\n",
    "        self.maquina = maquina"
   ]
  },
  {
   "cell_type": "code",
   "execution_count": 33,
   "metadata": {},
   "outputs": [
    {
     "name": "stdout",
     "output_type": "stream",
     "text": [
      "Bienvenid@ a hundir la flota! Tu contrincante va a ser una máquina. Cada uno disparará a una coordenada.\n",
      "Si logras disparar en una posición de un barco de la maquina, aparecerá una 'X' en el tablero del \n",
      "adversario y podrás seguir disparando vayas acertando. Si, por el contrario, disparas al agua, apracerá un '-' en \n",
      "eltablero del adversario y el turno será de la maquina. Para ganar, se tienen que \"hundir\" todos los barcos del adversario.\n"
     ]
    },
    {
     "ename": "NameError",
     "evalue": "name 'random' is not defined",
     "output_type": "error",
     "traceback": [
      "\u001b[0;31m---------------------------------------------------------------------------\u001b[0m",
      "\u001b[0;31mNameError\u001b[0m                                 Traceback (most recent call last)",
      "Cell \u001b[0;32mIn[33], line 25\u001b[0m\n\u001b[1;32m     22\u001b[0m     \u001b[38;5;28;01melse\u001b[39;00m:\n\u001b[1;32m     23\u001b[0m         \u001b[38;5;28mprint\u001b[39m(\u001b[38;5;124m\"\u001b[39m\u001b[38;5;124m¡Hasta luego!\u001b[39m\u001b[38;5;124m\"\u001b[39m)\n\u001b[0;32m---> 25\u001b[0m \u001b[43mempezar_juego\u001b[49m\u001b[43m(\u001b[49m\u001b[43m)\u001b[49m\n\u001b[1;32m     27\u001b[0m \u001b[38;5;66;03m# Verificación posición de los barcos\u001b[39;00m\n\u001b[1;32m     28\u001b[0m \u001b[38;5;28;01mdef\u001b[39;00m \u001b[38;5;21mverificar_posicion\u001b[39m(tablero, fila, columna, longitud, direccion):\n",
      "Cell \u001b[0;32mIn[33], line 12\u001b[0m, in \u001b[0;36mempezar_juego\u001b[0;34m()\u001b[0m\n\u001b[1;32m      8\u001b[0m Tablero\u001b[38;5;241m.\u001b[39mmaquina \u001b[38;5;241m=\u001b[39m \u001b[38;5;124m\"\u001b[39m\u001b[38;5;124mmaquina\u001b[39m\u001b[38;5;124m\"\u001b[39m\n\u001b[1;32m     10\u001b[0m \u001b[38;5;28mprint\u001b[39m(regla_juego)\n\u001b[0;32m---> 12\u001b[0m \u001b[43mposicion_barco\u001b[49m\u001b[43m(\u001b[49m\u001b[43mTablero\u001b[49m\u001b[38;5;241;43m.\u001b[39;49m\u001b[43mtablero_jugador_barcos\u001b[49m\u001b[43m,\u001b[49m\u001b[43m \u001b[49m\u001b[43mTablero\u001b[49m\u001b[38;5;241;43m.\u001b[39;49m\u001b[43mfilas\u001b[49m\u001b[43m,\u001b[49m\u001b[43m \u001b[49m\u001b[43mTablero\u001b[49m\u001b[38;5;241;43m.\u001b[39;49m\u001b[43mcolumnas\u001b[49m\u001b[43m)\u001b[49m\n\u001b[1;32m     13\u001b[0m posicion_barco(Tablero\u001b[38;5;241m.\u001b[39mtablero_maquina_barcos, Tablero\u001b[38;5;241m.\u001b[39mfilas, Tablero\u001b[38;5;241m.\u001b[39mcolumnas)\n\u001b[1;32m     14\u001b[0m \u001b[38;5;28mprint\u001b[39m(\u001b[38;5;124m\"\u001b[39m\u001b[38;5;124m*\u001b[39m\u001b[38;5;124m\"\u001b[39m\u001b[38;5;241m*\u001b[39m\u001b[38;5;241m40\u001b[39m)\n",
      "Cell \u001b[0;32mIn[25], line 56\u001b[0m, in \u001b[0;36mposicion_barco\u001b[0;34m(tablero, fila, columna)\u001b[0m\n\u001b[1;32m     54\u001b[0m colocado \u001b[38;5;241m=\u001b[39m \u001b[38;5;28;01mFalse\u001b[39;00m\n\u001b[1;32m     55\u001b[0m \u001b[38;5;28;01mwhile\u001b[39;00m \u001b[38;5;129;01mnot\u001b[39;00m colocado:\n\u001b[0;32m---> 56\u001b[0m     direccion \u001b[38;5;241m=\u001b[39m \u001b[43mrandom\u001b[49m\u001b[38;5;241m.\u001b[39mchoice([\u001b[38;5;124m\"\u001b[39m\u001b[38;5;124mH\u001b[39m\u001b[38;5;124m\"\u001b[39m, \u001b[38;5;124m\"\u001b[39m\u001b[38;5;124mV\u001b[39m\u001b[38;5;124m\"\u001b[39m])\n\u001b[1;32m     57\u001b[0m     fila \u001b[38;5;241m=\u001b[39m random\u001b[38;5;241m.\u001b[39mrandint(\u001b[38;5;241m0\u001b[39m, \u001b[38;5;241m9\u001b[39m)\n\u001b[1;32m     58\u001b[0m     columna \u001b[38;5;241m=\u001b[39m random\u001b[38;5;241m.\u001b[39mrandint(\u001b[38;5;241m0\u001b[39m, \u001b[38;5;241m9\u001b[39m)\n",
      "\u001b[0;31mNameError\u001b[0m: name 'random' is not defined"
     ]
    }
   ],
   "source": [
    "# Empezar a jugar\n",
    "def empezar_juego():\n",
    "    pregunta_01 = input(\"Hola, ¿quieres iniciar una partida?(Contesta si o no)\")\n",
    "\n",
    "    if pregunta_01 == \"si\":\n",
    "        pregunta_02 = input(\"¿Cómo te llamas?\")\n",
    "        Tablero.jugador = pregunta_02\n",
    "        Tablero.maquina = \"maquina\"\n",
    "\n",
    "        print(regla_juego)\n",
    "\n",
    "        posicion_barco(Tablero.tablero_jugador_barcos, Tablero.filas, Tablero.columnas)\n",
    "        posicion_barco(Tablero.tablero_maquina_barcos, Tablero.filas, Tablero.columnas)\n",
    "        print(\"*\"*40)\n",
    "        print(\"Tablero de\", pregunta_02)\n",
    "        print(\"*\"*40)\n",
    "        print(Tablero.tablero_jugador_barcos)\n",
    "        print(\"*\"*40)\n",
    "        print(\"Tablero del\", Tablero.maquina)\n",
    "        print(\"*\"*40)\n",
    "        print(Tablero.tablero_maquina_nada)\n",
    "    else:\n",
    "        print(\"¡Hasta luego!\")\n",
    "\n",
    "empezar_juego()\n",
    "\n",
    "# Verificación posición de los barcos\n",
    "def verificar_posicion(tablero, fila, columna, longitud, direccion):\n",
    "    \"\"\"Verifica si un barco cabe en la posición dada y no dispara fuera del tablero.\"\"\"\n",
    "    if direccion == \"H\":  # Horizontal\n",
    "        if columna + longitud > 10:\n",
    "            return False\n",
    "        for posicion in range(longitud):\n",
    "            if tablero[fila, columna + posicion] != \" \":\n",
    "                return False\n",
    "    else:  # Vertical\n",
    "        if fila + longitud > 10:\n",
    "            return False\n",
    "        for posicion in range(longitud):\n",
    "            if tablero[fila + posicion, columna] != \" \":\n",
    "                return False\n",
    "    return True\n",
    "\n",
    "def colocar_barco(tablero, fila, columna, longitud, direccion):\n",
    "    \"\"\"Coloca un barco en el tablero en la posición dada.\"\"\"\n",
    "    if direccion == \"H\":  # Horizontal\n",
    "        for posicion in range(longitud):\n",
    "            tablero[fila, columna + posicion] = \"O\"\n",
    "    else:  # Vertical\n",
    "        for posicion in range(longitud):\n",
    "           tablero[fila + posicion, columna] = \"O\"\n",
    "           \n",
    "# Colocar los barcos\n",
    "def posicion_barco(tablero, fila, columna):\n",
    "    for barco, longitud in barcos.items():\n",
    "        colocado = False\n",
    "        while not colocado:\n",
    "            direccion = random.choice([\"H\", \"V\"])\n",
    "            fila = random.randint(0, 9)\n",
    "            columna = random.randint(0, 9)\n",
    "            if verificar_posicion(tablero, fila, columna, longitud, direccion):\n",
    "                colocar_barco(tablero, fila, columna, longitud, direccion)\n",
    "                colocado = True\n",
    "\n",
    "\n"
   ]
  },
  {
   "cell_type": "code",
   "execution_count": null,
   "metadata": {},
   "outputs": [],
   "source": []
  }
 ],
 "metadata": {
  "kernelspec": {
   "display_name": "Python 3",
   "language": "python",
   "name": "python3"
  },
  "language_info": {
   "codemirror_mode": {
    "name": "ipython",
    "version": 3
   },
   "file_extension": ".py",
   "mimetype": "text/x-python",
   "name": "python",
   "nbconvert_exporter": "python",
   "pygments_lexer": "ipython3",
   "version": "3.12.3"
  }
 },
 "nbformat": 4,
 "nbformat_minor": 2
}
